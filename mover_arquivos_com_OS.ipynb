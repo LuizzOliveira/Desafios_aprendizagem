{
  "nbformat": 4,
  "nbformat_minor": 0,
  "metadata": {
    "colab": {
      "provenance": [],
      "authorship_tag": "ABX9TyOWJqcKfQqWS4savho+neJS",
      "include_colab_link": true
    },
    "kernelspec": {
      "name": "python3",
      "display_name": "Python 3"
    },
    "language_info": {
      "name": "python"
    }
  },
  "cells": [
    {
      "cell_type": "markdown",
      "metadata": {
        "id": "view-in-github",
        "colab_type": "text"
      },
      "source": [
        "<a href=\"https://colab.research.google.com/github/LuizzOliveira/Desafios_aprendizagem/blob/main/mover_arquivos_com_OS.ipynb\" target=\"_parent\"><img src=\"https://colab.research.google.com/assets/colab-badge.svg\" alt=\"Open In Colab\"/></a>"
      ]
    },
    {
      "cell_type": "code",
      "execution_count": null,
      "metadata": {
        "id": "DGjj5bpGyyGD"
      },
      "outputs": [],
      "source": [
        "import os"
      ]
    },
    {
      "cell_type": "code",
      "source": [
        "#Criando variável, para acessar pasta com os arquivos\n",
        "lista_arquivos=os.listdir(\"arquivos\")\n",
        "\n",
        "#Criando laço de repetição, movendo arquivos desejados para determidas pastas.\n",
        "for arquivo in lista_arquivos:\n",
        "    #identificando o arquivo a ser movido\n",
        "    if \"22.txt\" in arquivo:\n",
        "        #movendo o arquivo\n",
        "        os.rename(f\"arquivos/{arquivo}\", f\"arquivos/22/{arquivo}\")\n",
        "    elif \"23.txt\" in arquivo:\n",
        "        os.rename(f\"arquivos/{arquivo}\", f\"arquivos/23/{arquivo}\")"
      ],
      "metadata": {
        "id": "NI0yju2vy1Ds"
      },
      "execution_count": null,
      "outputs": []
    }
  ]
}