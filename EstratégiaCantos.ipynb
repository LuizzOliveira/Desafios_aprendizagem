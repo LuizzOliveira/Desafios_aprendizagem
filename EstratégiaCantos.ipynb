{
  "cells": [
    {
      "cell_type": "markdown",
      "metadata": {
        "id": "view-in-github",
        "colab_type": "text"
      },
      "source": [
        "<a href=\"https://colab.research.google.com/github/LuizzOliveira/Desafios_aprendizagem/blob/main/Estrat%C3%A9giaCantos.ipynb\" target=\"_parent\"><img src=\"https://colab.research.google.com/assets/colab-badge.svg\" alt=\"Open In Colab\"/></a>"
      ]
    },
    {
      "cell_type": "code",
      "execution_count": null,
      "metadata": {
        "colab": {
          "base_uri": "https://localhost:8080/"
        },
        "id": "-VZHaK3rvUJq",
        "outputId": "216789c5-9567-40c7-cced-e0f69cb45086"
      },
      "outputs": [
        {
          "output_type": "stream",
          "name": "stdout",
          "text": [
            "Requirement already satisfied: requests in /usr/local/lib/python3.10/dist-packages (2.31.0)\n",
            "Collecting fake_useragent\n",
            "  Downloading fake_useragent-1.5.1-py3-none-any.whl (17 kB)\n",
            "Collecting pyTelegramBotAPI\n",
            "  Downloading pytelegrambotapi-4.18.1-py3-none-any.whl (242 kB)\n",
            "\u001b[2K     \u001b[90m━━━━━━━━━━━━━━━━━━━━━━━━━━━━━━━━━━━━━━━━\u001b[0m \u001b[32m242.9/242.9 kB\u001b[0m \u001b[31m3.9 MB/s\u001b[0m eta \u001b[36m0:00:00\u001b[0m\n",
            "\u001b[?25hRequirement already satisfied: charset-normalizer<4,>=2 in /usr/local/lib/python3.10/dist-packages (from requests) (3.3.2)\n",
            "Requirement already satisfied: idna<4,>=2.5 in /usr/local/lib/python3.10/dist-packages (from requests) (3.7)\n",
            "Requirement already satisfied: urllib3<3,>=1.21.1 in /usr/local/lib/python3.10/dist-packages (from requests) (2.0.7)\n",
            "Requirement already satisfied: certifi>=2017.4.17 in /usr/local/lib/python3.10/dist-packages (from requests) (2024.2.2)\n",
            "Installing collected packages: fake_useragent, pyTelegramBotAPI\n",
            "Successfully installed fake_useragent-1.5.1 pyTelegramBotAPI-4.18.1\n"
          ]
        }
      ],
      "source": [
        "!pip install requests fake_useragent pyTelegramBotAPI"
      ]
    },
    {
      "cell_type": "markdown",
      "metadata": {
        "id": "A29vhlm_vUhd"
      },
      "source": [
        "### Instalando as Bibliotecas"
      ]
    },
    {
      "cell_type": "code",
      "execution_count": null,
      "metadata": {
        "id": "7dVZWVAhUKVZ"
      },
      "outputs": [],
      "source": []
    },
    {
      "cell_type": "markdown",
      "metadata": {
        "id": "vMh_mzytwFhe"
      },
      "source": [
        "### Importando as Bibliotecas"
      ]
    },
    {
      "cell_type": "code",
      "execution_count": null,
      "metadata": {
        "id": "8EO-bF-ywKB9"
      },
      "outputs": [],
      "source": [
        "import requests\n",
        "from fake_useragent import UserAgent\n",
        "import telebot\n",
        "import pytz\n",
        "import time\n",
        "import atexit\n",
        "from datetime import datetime, timedelta\n",
        "from requests.exceptions import RequestException"
      ]
    },
    {
      "cell_type": "markdown",
      "metadata": {
        "id": "D3IIp5d5vVW1"
      },
      "source": [
        "### Configuraçoes do bot"
      ]
    },
    {
      "cell_type": "code",
      "execution_count": null,
      "metadata": {
        "id": "qqeDmf18vWE_",
        "colab": {
          "base_uri": "https://localhost:8080/",
          "height": 159
        },
        "outputId": "ddc527f9-aeb1-41c8-f535-cf55563df92b"
      },
      "outputs": [
        {
          "output_type": "error",
          "ename": "SyntaxError",
          "evalue": "invalid character '🆚' (U+1F19A) (<ipython-input-9-83dfc365cf9d>, line 64)",
          "traceback": [
            "\u001b[0;36m  File \u001b[0;32m\"<ipython-input-9-83dfc365cf9d>\"\u001b[0;36m, line \u001b[0;32m64\u001b[0m\n\u001b[0;31m    🆚 <b>{jogo['timeC']} x {jogo['timeV']}</b>\u001b[0m\n\u001b[0m    ^\u001b[0m\n\u001b[0;31mSyntaxError\u001b[0m\u001b[0;31m:\u001b[0m invalid character '🆚' (U+1F19A)\n"
          ]
        }
      ],
      "source": [
        "bot = telebot.TeleBot(telegram_token)\n",
        "text = \"<b>Bot Ligado!!</b> 🚀\"\n",
        "bot.send_message(chat_id=chat_id, text=text, parse_mode=\"html\", disable_web_page_preview=True)\n",
        "\n",
        "jogos_enviados = set()\n",
        "\n",
        "def obter_dados():\n",
        "    try:\n",
        "        ua = UserAgent()\n",
        "        headers = {\n",
        "            'User-Agent': ua.random,\n",
        "        }\n",
        "        url = 'https://api.sportsanalytics.com.br/api/v1/fixtures-svc/fixtures/livescores'\n",
        "        params = {\n",
        "            'include': 'weatherReport,additionalInfo,league,stats,pressureStats,probabilities'\n",
        "        }\n",
        "        response = requests.get(url, headers=headers, params=params)\n",
        "        response.raise_for_status()\n",
        "        dados = response.json()\n",
        "        return dados\n",
        "    except RequestException as e:\n",
        "        print(f\"Erro ao fazer a requisição: {e}\")\n",
        "        return None\n",
        "\n",
        "def obter_caracteristicas(dados):\n",
        "    caracteristicas = [\n",
        "        {\n",
        "            'fixtureId': jogo['fixtureId'],\n",
        "            'timeC': jogo['homeTeam'].get('name', ''),\n",
        "            'timeV': jogo['awayTeam'].get('name', ''),\n",
        "            'placarC': jogo['scores'].get('homeTeamScore', 0),\n",
        "            'placarV': jogo['scores'].get('awayTeamScore', 0),\n",
        "            'liga': jogo['league'].get('name', ''),\n",
        "            'minuto': jogo['currentTime'].get('minute', 0),\n",
        "\n",
        "            'ataques_perigosos_C': jogo.get('stats', {}).get('dangerousAttacks', {}).get('home', 0) if jogo.get('stats') and jogo.get('stats', {}).get('dangerousAttacks') else 0,\n",
        "            'ataques_perigosos_V': jogo.get('stats', {}).get('dangerousAttacks', {}).get('away', 0) if jogo.get('stats') and jogo.get('stats', {}).get('dangerousAttacks') else 0,\n",
        "            'chutes_no_gol_C': jogo.get('stats', {}).get('shotsOngoal', {}).get('home', 0) if jogo.get('stats') and jogo.get('stats', {}).get('shotsOngoal') else 0,\n",
        "            'chutes_no_gol_V': jogo.get('stats', {}).get('shotsOngoal', {}).get('away', 0) if jogo.get('stats') and jogo.get('stats', {}).get('shotsOngoal') else 0,\n",
        "            'chutes_fora_C': jogo.get('stats', {}).get('shotsOffgoal', {}).get('home', 0) if jogo.get('stats') and jogo.get('stats', {}).get('shotsOffgoal') else 0,\n",
        "            'chutes_fora_V': jogo.get('stats', {}).get('shotsOffgoal', {}).get('away', 0) if jogo.get('stats') and jogo.get('stats', {}).get('shotsOffgoal') else 0,\n",
        "            'escanteios_C': jogo.get('stats', {}).get('corners', {}).get('home', 0) if jogo.get('stats') and jogo.get('stats', {}).get('corners') else 0,\n",
        "            'escanteios_V': jogo.get('stats', {}).get('corners', {}).get('away', 0) if jogo.get('stats') and jogo.get('stats', {}).get('corners') else 0\n",
        "        }\n",
        "        for jogo in (j for j in dados['data'] if j and isinstance(j, dict))\n",
        "    ]\n",
        "    return caracteristicas\n",
        "\n",
        "def estrategia(caracteristicas, nome_estrategia, nome_bot, minutos_min, minutos_max, total_chutes, total_gols, total_cantos, total_ataques_perigosos, total_ataques_perigosos_pm):\n",
        "    count = 0\n",
        "    for jogo in (j for j in caracteristicas if minutos_min <= j['minuto'] <= minutos_max):\n",
        "        jogo_id = jogo['fixtureId']\n",
        "        if jogo_id not in jogos_enviados:\n",
        "            shots = jogo['chutes_no_gol_C'] + jogo['chutes_no_gol_V'] + jogo['chutes_fora_C'] + jogo['chutes_fora_V']\n",
        "            if shots >= total_chutes and jogo['placarC'] + jogo['placarV'] >= total_gols and jogo['escanteios_C'] + jogo['escanteios_V'] >= total_cantos and jogo['ataques_perigosos_C'] + jogo['ataques_perigosos_V'] >= total_ataques_perigosos:\n",
        "                appmT = (jogo['ataques_perigosos_C'] + jogo['ataques_perigosos_V']) / jogo['minuto']\n",
        "if appmT >= total_ataques_perigosos_pm:\n",
        "                    convert_nome = jogo['timeC'].replace(\" \",\"+\")\n",
        "                    link_bet365 = f\"https://www.bet365.com/#/AX/{convert_nome}/\"\n",
        "                    count += 1\n",
        "                    text = f\"Estratégia:\"\n",
        "<b>{nome_estrategia}</b>\n",
        "\n",
        "🆚 <b>{jogo['timeC']} x {jogo['timeV']}</b>\n",
        "🏆 {jogo['liga']}\n",
        "⏰ {jogo['minuto']}' minutos\n",
        "\n",
        "📲 <a href='{link_bet365}'><b>Link do jogo na Bet365</b></a>\n",
        "\n",
        "📊<b>Estatísticas (Casa - Fora)</b>\n",
        "🥅 Placar: {jogo['placarC']} - {jogo['placarV']}\n",
        "🔥 Ataques Perigosos: {jogo['ataques_perigosos_C']} - {jogo['ataques_perigosos_V']}\n",
        "🎯 Chutes ao gol: {jogo['chutes_no_gol_C']} - {jogo['chutes_no_gol_V']}\n",
        "💥 Chutes fora do gol: {jogo['chutes_fora_C']} - {jogo['chutes_fora_V']}\n",
        "⛳️ Escanteios: {jogo['escanteios_C']} - {jogo['escanteios_V']}\n",
        "\n",
        "📊 <b>{nome_bot}</b> analisou as estatísticas e aprovou!\n",
        "\n",
        "<b>Pré-live</b> 🆗  <b>Ao-vivo</b> 🆗'''\n",
        "                    bot.send_message(chat_id=chat_id, text=text, parse_mode=\"html\", disable_web_page_preview=True)\n",
        "                    jogos_enviados.add(jogo_id)\n",
        "    return count\n",
        "\n",
        "while True:\n",
        "    try:\n",
        "        dados = obter_dados()\n",
        "        caracteristicas = obter_caracteristicas(dados)\n",
        "        estrategia(caracteristicas, nome_estrategia, nome_bot, minutos_min, minutos_max, total_chutes, total_gols, total_cantos, total_ataques_perigosos, total_ataques_perigosos_pm)\n",
        "    except RequestException as e:\n",
        "        print(f\"Erro ao fazer a requisição: {e}\")\n",
        "    time.sleep(120)"
      ]
    },
    {
      "cell_type": "code",
      "source": [],
      "metadata": {
        "id": "oTpr9Ygyx0tv"
      },
      "execution_count": null,
      "outputs": []
    },
    {
      "cell_type": "markdown",
      "metadata": {
        "id": "vv0c8F5cvV6O"
      },
      "source": [
        "### Corpo do Bot"
      ]
    },
    {
      "cell_type": "code",
      "execution_count": null,
      "metadata": {
        "id": "W8Emn193vVqW"
      },
      "outputs": [],
      "source": [
        "# Configurações do bot do Telegram\n",
        "telegram_token = \"6135732046:AAEVXxOwqGU3dV4q94qQCHK622t_jAWCq6A\"\n",
        "chat_id = \"-882967126\"\n",
        "\n",
        "# Configurações da estratégia\n",
        "nome_estrategia = \"cantos\"\n",
        "nome_bot = \"SoccerBot\"\n",
        "minutos_min = 85 # Tempo mínimo do jogo para envio de alerta\n",
        "minutos_max = 87 # Tempo máximo do jogo para envio de alerta\n",
        "total_gols = 0 # Número máximo total de gols\n",
        "total_chutes = 0 # Total de chutes, independentemente de serem no alvo ou não\n",
        "total_cantos = 8 # Número mínimo total de cantos\n",
        "total_ataques_perigosos = 0 # Número mínimo total de ataques perigosos\n",
        "total_ataques_perigosos_pm = 0 # Número mínimo total de ataques perigosos por minuto para ambas as equipes"
      ]
    }
  ],
  "metadata": {
    "colab": {
      "collapsed_sections": [
        "A29vhlm_vUhd",
        "vMh_mzytwFhe"
      ],
      "provenance": [],
      "include_colab_link": true
    },
    "kernelspec": {
      "display_name": "Python 3",
      "name": "python3"
    },
    "language_info": {
      "codemirror_mode": {
        "name": "ipython",
        "version": 3
      },
      "file_extension": ".py",
      "mimetype": "text/x-python",
      "name": "python",
      "nbconvert_exporter": "python",
      "pygments_lexer": "ipython3",
      "version": "3.11.2"
    }
  },
  "nbformat": 4,
  "nbformat_minor": 0
}